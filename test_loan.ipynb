{
 "cells": [
  {
   "cell_type": "code",
   "execution_count": 1,
   "metadata": {},
   "outputs": [],
   "source": [
    "from sklearn.feature_extraction import DictVectorizer\n",
    "import csv\n",
    "from sklearn import preprocessing\n",
    "from sklearn import tree\n",
    "from sklearn.externals.six import StringIO"
   ]
  },
  {
   "cell_type": "code",
   "execution_count": 3,
   "metadata": {},
   "outputs": [
    {
     "name": "stdout",
     "output_type": "stream",
     "text": [
      "0\n"
     ]
    }
   ],
   "source": [
    "#Read in the csv File and put feature in a list of class label\n",
    "allElectronicsData = open(r\"data/loan_approval.csv\",\"rb\")\n",
    "reader = csv.reader(allElectronicsData)\n",
    "print(reader.line_num)\n",
    "# headers = reader.next()\n",
    "#print headers"
   ]
  },
  {
   "cell_type": "code",
   "execution_count": null,
   "metadata": {},
   "outputs": [],
   "source": [
    "featureList = []  \n",
    "labelList = []\n",
    "#存放在两个元祖中\n",
    "for row in reader:\n",
    "    labelList.append(row[len(row)-1])\n",
    "    rowDic = {}\n",
    "    for i in range(1,len(row)-1):\n",
    "        rowDic[headers[i]] = row[i]\n",
    "    featureList.append(rowDic)\n",
    "    \n",
    "# print featureList\n",
    "# print labelList\n",
    "\n",
    "# Vector Feature\n",
    "vec = DictVectorizer()\n",
    "dummyX = vec.fit_transform(featureList) .toarray()\n",
    "# print \"dummyX:\",dummyX\n",
    "# print vec.get_feature_names()\n",
    "# print \"labelList:\"+str(labelList)\n",
    "\n",
    "lb = preprocessing.LabelBinarizer()\n",
    "dummyY = lb.fit_transform(labelList)\n",
    "#print \"dummyY:\" + str(dummyY)\n",
    "\n",
    "#using desicionTree for classfication\n",
    "clf = tree.DecisionTreeClassifier(criterion=\"entropy\") #创建一个分类器，entropy决定了用ID3算法\n",
    "clf = clf.fit(dummyX, dummyY)\n",
    "print \"clf:\"+str(clf)\n",
    "\n",
    "#Visulize model\n",
    "with open(\"allEallElectronicInfomationGainori.txt\",\"w\") as f:\n",
    "    f = tree.export_graphviz(clf, feature_names=vec.get_feature_names(), out_file = f)\n",
    "\n",
    "#预测    \n",
    "oneRowX = dummyX[0,:]\n",
    "#print \"oneRowX:\" +str(oneRowX)\n",
    "\n",
    "newRowX = oneRowX\n",
    "newRowX[0] = 1\n",
    "newRowX[2] = 0\n",
    "print \"newRowX:\" +str(newRowX)\n",
    "\n",
    "predictedY = clf.predict(newRowX)\n",
    "print \"predictedY:\" + str(predictedY)</span>"
   ]
  }
 ],
 "metadata": {
  "kernelspec": {
   "display_name": "Python 3",
   "language": "python",
   "name": "python3"
  },
  "language_info": {
   "codemirror_mode": {
    "name": "ipython",
    "version": 3
   },
   "file_extension": ".py",
   "mimetype": "text/x-python",
   "name": "python",
   "nbconvert_exporter": "python",
   "pygments_lexer": "ipython3",
   "version": "3.6.5"
  }
 },
 "nbformat": 4,
 "nbformat_minor": 2
}
